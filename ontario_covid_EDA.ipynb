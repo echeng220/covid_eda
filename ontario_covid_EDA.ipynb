{
 "cells": [
  {
   "cell_type": "code",
   "execution_count": 1,
   "metadata": {},
   "outputs": [],
   "source": [
    "#import required libraries\n",
    "import mysql.connector\n",
    "import seaborn as sns\n",
    "import matplotlib.pyplot as plt\n",
    "import pandas as pd\n",
    "import matplotlib.ticker as mtick"
   ]
  },
  {
   "cell_type": "code",
   "execution_count": 2,
   "metadata": {},
   "outputs": [
    {
     "name": "stdout",
     "output_type": "stream",
     "text": [
      "<mysql.connector.connection.MySQLConnection object at 0x0000023BE7FA1E08>\n"
     ]
    }
   ],
   "source": [
    "#define database\n",
    "db = mysql.connector.connect(\n",
    "    host = 'localhost',\n",
    "    user = 'root',\n",
    "    password = 'Xguard220!'\n",
    ")\n",
    "\n",
    "print(db)"
   ]
  },
  {
   "cell_type": "code",
   "execution_count": 3,
   "metadata": {},
   "outputs": [],
   "source": [
    "def run_query(query, database):\n",
    "    '''Run MySQL query, return query results as a dataframe with labelled columns.'''\n",
    "    \n",
    "    cursor = database.cursor()\n",
    "    \n",
    "    cursor.execute(query)\n",
    "    result = cursor.fetchall()\n",
    "    \n",
    "    num_fields = len(cursor.description)\n",
    "    names = [i[0] for i in cursor.description]\n",
    "    \n",
    "    df = pd.DataFrame(result, columns = names)\n",
    "    return df"
   ]
  },
  {
   "cell_type": "code",
   "execution_count": 4,
   "metadata": {},
   "outputs": [
    {
     "data": {
      "text/html": [
       "<div>\n",
       "<style scoped>\n",
       "    .dataframe tbody tr th:only-of-type {\n",
       "        vertical-align: middle;\n",
       "    }\n",
       "\n",
       "    .dataframe tbody tr th {\n",
       "        vertical-align: top;\n",
       "    }\n",
       "\n",
       "    .dataframe thead th {\n",
       "        text-align: right;\n",
       "    }\n",
       "</style>\n",
       "<table border=\"1\" class=\"dataframe\">\n",
       "  <thead>\n",
       "    <tr style=\"text-align: right;\">\n",
       "      <th></th>\n",
       "      <th>Age_group</th>\n",
       "      <th>cases</th>\n",
       "    </tr>\n",
       "  </thead>\n",
       "  <tbody>\n",
       "    <tr>\n",
       "      <th>0</th>\n",
       "      <td>20s</td>\n",
       "      <td>44014</td>\n",
       "    </tr>\n",
       "    <tr>\n",
       "      <th>1</th>\n",
       "      <td>30s</td>\n",
       "      <td>33245</td>\n",
       "    </tr>\n",
       "    <tr>\n",
       "      <th>2</th>\n",
       "      <td>50s</td>\n",
       "      <td>30982</td>\n",
       "    </tr>\n",
       "    <tr>\n",
       "      <th>3</th>\n",
       "      <td>40s</td>\n",
       "      <td>30177</td>\n",
       "    </tr>\n",
       "    <tr>\n",
       "      <th>4</th>\n",
       "      <td>&lt;20</td>\n",
       "      <td>27501</td>\n",
       "    </tr>\n",
       "    <tr>\n",
       "      <th>5</th>\n",
       "      <td>60s</td>\n",
       "      <td>19880</td>\n",
       "    </tr>\n",
       "    <tr>\n",
       "      <th>6</th>\n",
       "      <td>70s</td>\n",
       "      <td>10745</td>\n",
       "    </tr>\n",
       "    <tr>\n",
       "      <th>7</th>\n",
       "      <td>80s</td>\n",
       "      <td>9375</td>\n",
       "    </tr>\n",
       "    <tr>\n",
       "      <th>8</th>\n",
       "      <td>90s</td>\n",
       "      <td>5865</td>\n",
       "    </tr>\n",
       "  </tbody>\n",
       "</table>\n",
       "</div>"
      ],
      "text/plain": [
       "  Age_group  cases\n",
       "0       20s  44014\n",
       "1       30s  33245\n",
       "2       50s  30982\n",
       "3       40s  30177\n",
       "4       <20  27501\n",
       "5       60s  19880\n",
       "6       70s  10745\n",
       "7       80s   9375\n",
       "8       90s   5865"
      ]
     },
     "execution_count": 4,
     "metadata": {},
     "output_type": "execute_result"
    }
   ],
   "source": [
    "#Select top 5 age groups with most cases\n",
    "age_query = 'select Age_group, count(*) as cases from covid.ontario group by Age_Group order by cases desc limit 9;'\n",
    "\n",
    "age = run_query(age_query, db)\n",
    "age"
   ]
  },
  {
   "cell_type": "code",
   "execution_count": 5,
   "metadata": {},
   "outputs": [
    {
     "data": {
      "text/plain": [
       "Text(0, 0.5, 'Total Cases')"
      ]
     },
     "execution_count": 5,
     "metadata": {},
     "output_type": "execute_result"
    },
    {
     "data": {
      "image/png": "[encoded data removed]",
      "text/plain": [
       "<Figure size 432x288 with 1 Axes>"
      ]
     },
     "metadata": {
      "needs_background": "light"
     },
     "output_type": "display_data"
    }
   ],
   "source": [
    "age.plot(kind = 'bar', x = 'Age_group', y = 'cases', legend = None, edgecolor = 'dimgrey')\n",
    "plt.xticks(rotation = 0)\n",
    "plt.title('Total COVID-19 Cases by Age Group')\n",
    "plt.xlabel('Age Group')\n",
    "plt.ylabel('Total Cases')"
   ]
  },
  {
   "cell_type": "code",
   "execution_count": 6,
   "metadata": {},
   "outputs": [
    {
     "data": {
      "text/html": [
       "<div>\n",
       "<style scoped>\n",
       "    .dataframe tbody tr th:only-of-type {\n",
       "        vertical-align: middle;\n",
       "    }\n",
       "\n",
       "    .dataframe tbody tr th {\n",
       "        vertical-align: top;\n",
       "    }\n",
       "\n",
       "    .dataframe thead th {\n",
       "        text-align: right;\n",
       "    }\n",
       "</style>\n",
       "<table border=\"1\" class=\"dataframe\">\n",
       "  <thead>\n",
       "    <tr style=\"text-align: right;\">\n",
       "      <th></th>\n",
       "      <th>Age_Group</th>\n",
       "      <th>Client_Gender</th>\n",
       "      <th>cases</th>\n",
       "      <th>deaths</th>\n",
       "      <th>death_rate</th>\n",
       "    </tr>\n",
       "  </thead>\n",
       "  <tbody>\n",
       "    <tr>\n",
       "      <th>0</th>\n",
       "      <td>90s</td>\n",
       "      <td>MALE</td>\n",
       "      <td>1515</td>\n",
       "      <td>532</td>\n",
       "      <td>35.115512</td>\n",
       "    </tr>\n",
       "    <tr>\n",
       "      <th>1</th>\n",
       "      <td>90s</td>\n",
       "      <td>UNSPECIFIED</td>\n",
       "      <td>61</td>\n",
       "      <td>17</td>\n",
       "      <td>27.868852</td>\n",
       "    </tr>\n",
       "    <tr>\n",
       "      <th>2</th>\n",
       "      <td>90s</td>\n",
       "      <td>FEMALE</td>\n",
       "      <td>4289</td>\n",
       "      <td>1056</td>\n",
       "      <td>24.621124</td>\n",
       "    </tr>\n",
       "    <tr>\n",
       "      <th>3</th>\n",
       "      <td>80s</td>\n",
       "      <td>MALE</td>\n",
       "      <td>3536</td>\n",
       "      <td>850</td>\n",
       "      <td>24.038462</td>\n",
       "    </tr>\n",
       "    <tr>\n",
       "      <th>4</th>\n",
       "      <td>80s</td>\n",
       "      <td>UNSPECIFIED</td>\n",
       "      <td>70</td>\n",
       "      <td>16</td>\n",
       "      <td>22.857143</td>\n",
       "    </tr>\n",
       "    <tr>\n",
       "      <th>5</th>\n",
       "      <td>80s</td>\n",
       "      <td>FEMALE</td>\n",
       "      <td>5769</td>\n",
       "      <td>923</td>\n",
       "      <td>15.999307</td>\n",
       "    </tr>\n",
       "    <tr>\n",
       "      <th>6</th>\n",
       "      <td>70s</td>\n",
       "      <td>MALE</td>\n",
       "      <td>5362</td>\n",
       "      <td>544</td>\n",
       "      <td>10.145468</td>\n",
       "    </tr>\n",
       "    <tr>\n",
       "      <th>7</th>\n",
       "      <td>70s</td>\n",
       "      <td>UNSPECIFIED</td>\n",
       "      <td>57</td>\n",
       "      <td>5</td>\n",
       "      <td>8.771930</td>\n",
       "    </tr>\n",
       "    <tr>\n",
       "      <th>8</th>\n",
       "      <td></td>\n",
       "      <td>UNSPECIFIED</td>\n",
       "      <td>14</td>\n",
       "      <td>1</td>\n",
       "      <td>7.142857</td>\n",
       "    </tr>\n",
       "    <tr>\n",
       "      <th>9</th>\n",
       "      <td>70s</td>\n",
       "      <td>FEMALE</td>\n",
       "      <td>5325</td>\n",
       "      <td>347</td>\n",
       "      <td>6.516432</td>\n",
       "    </tr>\n",
       "    <tr>\n",
       "      <th>10</th>\n",
       "      <td>60s</td>\n",
       "      <td>MALE</td>\n",
       "      <td>10251</td>\n",
       "      <td>269</td>\n",
       "      <td>2.624134</td>\n",
       "    </tr>\n",
       "    <tr>\n",
       "      <th>11</th>\n",
       "      <td>60s</td>\n",
       "      <td>FEMALE</td>\n",
       "      <td>9541</td>\n",
       "      <td>149</td>\n",
       "      <td>1.561681</td>\n",
       "    </tr>\n",
       "    <tr>\n",
       "      <th>12</th>\n",
       "      <td>60s</td>\n",
       "      <td>UNSPECIFIED</td>\n",
       "      <td>86</td>\n",
       "      <td>1</td>\n",
       "      <td>1.162791</td>\n",
       "    </tr>\n",
       "    <tr>\n",
       "      <th>13</th>\n",
       "      <td>50s</td>\n",
       "      <td>UNSPECIFIED</td>\n",
       "      <td>143</td>\n",
       "      <td>1</td>\n",
       "      <td>0.699301</td>\n",
       "    </tr>\n",
       "    <tr>\n",
       "      <th>14</th>\n",
       "      <td>50s</td>\n",
       "      <td>MALE</td>\n",
       "      <td>14625</td>\n",
       "      <td>93</td>\n",
       "      <td>0.635897</td>\n",
       "    </tr>\n",
       "    <tr>\n",
       "      <th>15</th>\n",
       "      <td>50s</td>\n",
       "      <td>FEMALE</td>\n",
       "      <td>16211</td>\n",
       "      <td>56</td>\n",
       "      <td>0.345444</td>\n",
       "    </tr>\n",
       "    <tr>\n",
       "      <th>16</th>\n",
       "      <td>40s</td>\n",
       "      <td>MALE</td>\n",
       "      <td>14066</td>\n",
       "      <td>29</td>\n",
       "      <td>0.206171</td>\n",
       "    </tr>\n",
       "    <tr>\n",
       "      <th>17</th>\n",
       "      <td>40s</td>\n",
       "      <td>FEMALE</td>\n",
       "      <td>15912</td>\n",
       "      <td>12</td>\n",
       "      <td>0.075415</td>\n",
       "    </tr>\n",
       "    <tr>\n",
       "      <th>18</th>\n",
       "      <td>30s</td>\n",
       "      <td>MALE</td>\n",
       "      <td>16732</td>\n",
       "      <td>12</td>\n",
       "      <td>0.071719</td>\n",
       "    </tr>\n",
       "    <tr>\n",
       "      <th>19</th>\n",
       "      <td>20s</td>\n",
       "      <td>MALE</td>\n",
       "      <td>23091</td>\n",
       "      <td>4</td>\n",
       "      <td>0.017323</td>\n",
       "    </tr>\n",
       "    <tr>\n",
       "      <th>20</th>\n",
       "      <td>30s</td>\n",
       "      <td>FEMALE</td>\n",
       "      <td>16300</td>\n",
       "      <td>2</td>\n",
       "      <td>0.012270</td>\n",
       "    </tr>\n",
       "    <tr>\n",
       "      <th>21</th>\n",
       "      <td>20s</td>\n",
       "      <td>FEMALE</td>\n",
       "      <td>20648</td>\n",
       "      <td>2</td>\n",
       "      <td>0.009686</td>\n",
       "    </tr>\n",
       "    <tr>\n",
       "      <th>22</th>\n",
       "      <td>&lt;20</td>\n",
       "      <td>FEMALE</td>\n",
       "      <td>13064</td>\n",
       "      <td>1</td>\n",
       "      <td>0.007655</td>\n",
       "    </tr>\n",
       "  </tbody>\n",
       "</table>\n",
       "</div>"
      ],
      "text/plain": [
       "   Age_Group Client_Gender  cases  deaths death_rate\n",
       "0        90s          MALE   1515     532  35.115512\n",
       "1        90s   UNSPECIFIED     61      17  27.868852\n",
       "2        90s        FEMALE   4289    1056  24.621124\n",
       "3        80s          MALE   3536     850  24.038462\n",
       "4        80s   UNSPECIFIED     70      16  22.857143\n",
       "5        80s        FEMALE   5769     923  15.999307\n",
       "6        70s          MALE   5362     544  10.145468\n",
       "7        70s   UNSPECIFIED     57       5   8.771930\n",
       "8              UNSPECIFIED     14       1   7.142857\n",
       "9        70s        FEMALE   5325     347   6.516432\n",
       "10       60s          MALE  10251     269   2.624134\n",
       "11       60s        FEMALE   9541     149   1.561681\n",
       "12       60s   UNSPECIFIED     86       1   1.162791\n",
       "13       50s   UNSPECIFIED    143       1   0.699301\n",
       "14       50s          MALE  14625      93   0.635897\n",
       "15       50s        FEMALE  16211      56   0.345444\n",
       "16       40s          MALE  14066      29   0.206171\n",
       "17       40s        FEMALE  15912      12   0.075415\n",
       "18       30s          MALE  16732      12   0.071719\n",
       "19       20s          MALE  23091       4   0.017323\n",
       "20       30s        FEMALE  16300       2   0.012270\n",
       "21       20s        FEMALE  20648       2   0.009686\n",
       "22       <20        FEMALE  13064       1   0.007655"
      ]
     },
     "execution_count": 6,
     "metadata": {},
     "output_type": "execute_result"
    }
   ],
   "source": [
    "death_query = '''select c.Age_Group, c.Client_Gender, c.cases, d.deaths, cast(((d.deaths / c.cases)*100) as decimal(8,6)) as death_rate \n",
    "from ( select Age_Group, Client_Gender, count(*) as cases\n",
    "from covid.ontario group by Client_Gender, Age_Group) as c \n",
    "join\n",
    "( select Age_Group, Client_Gender, count(*) as deaths from covid.ontario\n",
    "where Outcome1 = 'Fatal' group by Client_Gender, Age_Group) as d\n",
    "on c.Age_Group = d.Age_Group and c.Client_Gender = d.Client_Gender\n",
    "order by death_rate desc;'''\n",
    "\n",
    "deaths = run_query(death_query, db)\n",
    "deaths"
   ]
  },
  {
   "cell_type": "code",
   "execution_count": 7,
   "metadata": {},
   "outputs": [
    {
     "data": {
      "image/png": "[encoded data removed]",
      "text/plain": [
       "<Figure size 432x288 with 1 Axes>"
      ]
     },
     "metadata": {
      "needs_background": "light"
     },
     "output_type": "display_data"
    }
   ],
   "source": [
    "sns.barplot(x = 'Age_Group', y = 'death_rate', hue = 'Client_Gender', data = deaths, \\\n",
    "            palette = ['cornflowerblue', 'gainsboro', 'pink'], edgecolor = 'dimgrey')\n",
    "plt.xticks(rotation = 0)\n",
    "plt.title('COVID-19 Death Rate by Age Group')\n",
    "plt.xlabel('Age Group')\n",
    "plt.ylabel('Death Rate [%]')\n",
    "plt.legend(loc = 'upper right')\n",
    "plt.gca().yaxis.set_major_formatter(mtick.PercentFormatter())"
   ]
  },
  {
   "cell_type": "code",
   "execution_count": 9,
   "metadata": {},
   "outputs": [
    {
     "data": {
      "text/html": [
       "<div>\n",
       "<style scoped>\n",
       "    .dataframe tbody tr th:only-of-type {\n",
       "        vertical-align: middle;\n",
       "    }\n",
       "\n",
       "    .dataframe tbody tr th {\n",
       "        vertical-align: top;\n",
       "    }\n",
       "\n",
       "    .dataframe thead th {\n",
       "        text-align: right;\n",
       "    }\n",
       "</style>\n",
       "<table border=\"1\" class=\"dataframe\">\n",
       "  <thead>\n",
       "    <tr style=\"text-align: right;\">\n",
       "      <th></th>\n",
       "      <th>GEO_NAME</th>\n",
       "      <th>cases</th>\n",
       "      <th>population</th>\n",
       "      <th>infection</th>\n",
       "    </tr>\n",
       "  </thead>\n",
       "  <tbody>\n",
       "    <tr>\n",
       "      <th>0</th>\n",
       "      <td>Windsor</td>\n",
       "      <td>9410</td>\n",
       "      <td>211680</td>\n",
       "      <td>4.4454</td>\n",
       "    </tr>\n",
       "    <tr>\n",
       "      <th>1</th>\n",
       "      <td>Toronto</td>\n",
       "      <td>66502</td>\n",
       "      <td>2665495</td>\n",
       "      <td>2.4949</td>\n",
       "    </tr>\n",
       "    <tr>\n",
       "      <th>2</th>\n",
       "      <td>Guelph</td>\n",
       "      <td>3149</td>\n",
       "      <td>128250</td>\n",
       "      <td>2.4554</td>\n",
       "    </tr>\n",
       "    <tr>\n",
       "      <th>3</th>\n",
       "      <td>Hamilton</td>\n",
       "      <td>7259</td>\n",
       "      <td>533680</td>\n",
       "      <td>1.3602</td>\n",
       "    </tr>\n",
       "    <tr>\n",
       "      <th>4</th>\n",
       "      <td>Ottawa</td>\n",
       "      <td>11189</td>\n",
       "      <td>908825</td>\n",
       "      <td>1.2312</td>\n",
       "    </tr>\n",
       "    <tr>\n",
       "      <th>5</th>\n",
       "      <td>Kingston</td>\n",
       "      <td>596</td>\n",
       "      <td>120690</td>\n",
       "      <td>0.4938</td>\n",
       "    </tr>\n",
       "  </tbody>\n",
       "</table>\n",
       "</div>"
      ],
      "text/plain": [
       "   GEO_NAME  cases population infection\n",
       "0   Windsor   9410     211680    4.4454\n",
       "1   Toronto  66502    2665495    2.4949\n",
       "2    Guelph   3149     128250    2.4554\n",
       "3  Hamilton   7259     533680    1.3602\n",
       "4    Ottawa  11189     908825    1.2312\n",
       "5  Kingston    596     120690    0.4938"
      ]
     },
     "execution_count": 9,
     "metadata": {},
     "output_type": "execute_result"
    }
   ],
   "source": [
    "pct_pop_query = '''select d.GEO_NAME, o.cases, d.population, o.cases / d.population * 100 as infection from\n",
    "(select Reporting_PHU_City, count(*) as cases from covid.ontario group by Reporting_PHU_City) as o\n",
    "join\n",
    "(select GEO_NAME, sum(TOTAL_SEX) as population from covid.demographics \n",
    "where AGE_GROUP is not null and GEO_NAME in ('Windsor','Toronto','Guelph','Hamilton','Ottawa','Kingston')\n",
    "group by GEO_NAME order by population desc limit 10) as d\n",
    "on d.GEO_NAME = o.Reporting_PHU_City \n",
    "order by infection desc;'''\n",
    "\n",
    "pct_pop = run_query(pct_pop_query, db)\n",
    "pct_pop"
   ]
  },
  {
   "cell_type": "code",
   "execution_count": 13,
   "metadata": {
    "scrolled": true
   },
   "outputs": [
    {
     "data": {
      "image/png": "[encoded data removed]",
      "text/plain": [
       "<Figure size 432x288 with 1 Axes>"
      ]
     },
     "metadata": {
      "needs_background": "light"
     },
     "output_type": "display_data"
    }
   ],
   "source": [
    "#convert decimals to floats\n",
    "pct_pop.infection = [float(row) for row in pct_pop.infection]\n",
    "\n",
    "colors = ['skyblue','crimson','skyblue','skyblue','skyblue']\n",
    "\n",
    "pct_pop.plot(kind = 'bar', x = 'GEO_NAME', y = 'infection', legend = None, color = colors, edgecolor = 'dimgrey')\n",
    "plt.xticks(rotation = 45)\n",
    "plt.title('Percentage of Population Infected Select Cities')\n",
    "plt.xlabel('City')\n",
    "plt.ylabel('Percent of Population Infected [%]')\n",
    "plt.gca().yaxis.set_major_formatter(mtick.PercentFormatter())"
   ]
  },
  {
   "cell_type": "code",
   "execution_count": 11,
   "metadata": {},
   "outputs": [
    {
     "data": {
      "text/html": [
       "<div>\n",
       "<style scoped>\n",
       "    .dataframe tbody tr th:only-of-type {\n",
       "        vertical-align: middle;\n",
       "    }\n",
       "\n",
       "    .dataframe tbody tr th {\n",
       "        vertical-align: top;\n",
       "    }\n",
       "\n",
       "    .dataframe thead th {\n",
       "        text-align: right;\n",
       "    }\n",
       "</style>\n",
       "<table border=\"1\" class=\"dataframe\">\n",
       "  <thead>\n",
       "    <tr style=\"text-align: right;\">\n",
       "      <th></th>\n",
       "      <th>Age_Group</th>\n",
       "      <th>cases</th>\n",
       "      <th>population</th>\n",
       "      <th>age_infection_rate</th>\n",
       "    </tr>\n",
       "  </thead>\n",
       "  <tbody>\n",
       "    <tr>\n",
       "      <th>0</th>\n",
       "      <td>90s</td>\n",
       "      <td>5865</td>\n",
       "      <td>62750</td>\n",
       "      <td>9.3466</td>\n",
       "    </tr>\n",
       "    <tr>\n",
       "      <th>1</th>\n",
       "      <td>20s</td>\n",
       "      <td>44014</td>\n",
       "      <td>1037760</td>\n",
       "      <td>4.2413</td>\n",
       "    </tr>\n",
       "    <tr>\n",
       "      <th>2</th>\n",
       "      <td>80s</td>\n",
       "      <td>9375</td>\n",
       "      <td>260435</td>\n",
       "      <td>3.5997</td>\n",
       "    </tr>\n",
       "    <tr>\n",
       "      <th>3</th>\n",
       "      <td>30s</td>\n",
       "      <td>33245</td>\n",
       "      <td>967550</td>\n",
       "      <td>3.4360</td>\n",
       "    </tr>\n",
       "    <tr>\n",
       "      <th>4</th>\n",
       "      <td>40s</td>\n",
       "      <td>30177</td>\n",
       "      <td>968935</td>\n",
       "      <td>3.1145</td>\n",
       "    </tr>\n",
       "    <tr>\n",
       "      <th>5</th>\n",
       "      <td>50s</td>\n",
       "      <td>30982</td>\n",
       "      <td>1057515</td>\n",
       "      <td>2.9297</td>\n",
       "    </tr>\n",
       "    <tr>\n",
       "      <th>6</th>\n",
       "      <td>60s</td>\n",
       "      <td>19880</td>\n",
       "      <td>787145</td>\n",
       "      <td>2.5256</td>\n",
       "    </tr>\n",
       "    <tr>\n",
       "      <th>7</th>\n",
       "      <td>70s</td>\n",
       "      <td>10745</td>\n",
       "      <td>463155</td>\n",
       "      <td>2.3200</td>\n",
       "    </tr>\n",
       "    <tr>\n",
       "      <th>8</th>\n",
       "      <td>&lt;20</td>\n",
       "      <td>27501</td>\n",
       "      <td>1368115</td>\n",
       "      <td>2.0101</td>\n",
       "    </tr>\n",
       "  </tbody>\n",
       "</table>\n",
       "</div>"
      ],
      "text/plain": [
       "  Age_Group  cases population age_infection_rate\n",
       "0       90s   5865      62750             9.3466\n",
       "1       20s  44014    1037760             4.2413\n",
       "2       80s   9375     260435             3.5997\n",
       "3       30s  33245     967550             3.4360\n",
       "4       40s  30177     968935             3.1145\n",
       "5       50s  30982    1057515             2.9297\n",
       "6       60s  19880     787145             2.5256\n",
       "7       70s  10745     463155             2.3200\n",
       "8       <20  27501    1368115             2.0101"
      ]
     },
     "execution_count": 11,
     "metadata": {},
     "output_type": "execute_result"
    }
   ],
   "source": [
    "pop_inf_query = '''select o.Age_Group, o.cases, d.population, o.cases / d.population * 100 as age_infection_rate from\n",
    "(select Age_Group, count(*) as cases from covid.ontario \n",
    "group by Age_Group) as o\n",
    "join\n",
    "(select AGE_GROUP, sum(TOTAL_SEX) as population from covid.demographics \n",
    "where AGE_GROUP is not null\n",
    "group by AGE_GROUP) as d\n",
    "on d.AGE_GROUP = o.Age_Group \n",
    "order by age_infection_rate desc;'''\n",
    "\n",
    "pop_inf = run_query(pop_inf_query, db)\n",
    "pop_inf"
   ]
  },
  {
   "cell_type": "code",
   "execution_count": 12,
   "metadata": {},
   "outputs": [
    {
     "data": {
      "image/png": "[encoded data removed]",
      "text/plain": [
       "<Figure size 432x288 with 1 Axes>"
      ]
     },
     "metadata": {
      "needs_background": "light"
     },
     "output_type": "display_data"
    }
   ],
   "source": [
    "#convert decimals to floats\n",
    "pop_inf.age_infection_rate = [float(row) for row in pop_inf.age_infection_rate]\n",
    "\n",
    "pop_inf.plot(kind = 'bar', x = 'Age_Group', y = 'age_infection_rate', legend = None, color = 'lightgreen', edgecolor = 'dimgrey')\n",
    "plt.xticks(rotation = 0)\n",
    "plt.title('Percentage of Age Group Infected in Ontario')\n",
    "plt.xlabel('Age Group')\n",
    "plt.ylabel('Percent of Age Group Infected')\n",
    "plt.gca().yaxis.set_major_formatter(mtick.PercentFormatter())"
   ]
  },
  {
   "cell_type": "code",
   "execution_count": 18,
   "metadata": {},
   "outputs": [
    {
     "data": {
      "text/html": [
       "<div>\n",
       "<style scoped>\n",
       "    .dataframe tbody tr th:only-of-type {\n",
       "        vertical-align: middle;\n",
       "    }\n",
       "\n",
       "    .dataframe tbody tr th {\n",
       "        vertical-align: top;\n",
       "    }\n",
       "\n",
       "    .dataframe thead th {\n",
       "        text-align: right;\n",
       "    }\n",
       "</style>\n",
       "<table border=\"1\" class=\"dataframe\">\n",
       "  <thead>\n",
       "    <tr style=\"text-align: right;\">\n",
       "      <th></th>\n",
       "      <th>Age_Group</th>\n",
       "      <th>Case_AcquisitionInfo</th>\n",
       "      <th>cases</th>\n",
       "    </tr>\n",
       "  </thead>\n",
       "  <tbody>\n",
       "    <tr>\n",
       "      <th>0</th>\n",
       "      <td>&lt;20</td>\n",
       "      <td>CC</td>\n",
       "      <td>18398</td>\n",
       "    </tr>\n",
       "    <tr>\n",
       "      <th>1</th>\n",
       "      <td>&lt;20</td>\n",
       "      <td>MISSING INFORMATION</td>\n",
       "      <td>3779</td>\n",
       "    </tr>\n",
       "    <tr>\n",
       "      <th>2</th>\n",
       "      <td>&lt;20</td>\n",
       "      <td>NO KNOWN EPI LINK</td>\n",
       "      <td>2928</td>\n",
       "    </tr>\n",
       "    <tr>\n",
       "      <th>3</th>\n",
       "      <td>&lt;20</td>\n",
       "      <td>OB</td>\n",
       "      <td>2184</td>\n",
       "    </tr>\n",
       "    <tr>\n",
       "      <th>4</th>\n",
       "      <td>&lt;20</td>\n",
       "      <td>TRAVEL</td>\n",
       "      <td>193</td>\n",
       "    </tr>\n",
       "  </tbody>\n",
       "</table>\n",
       "</div>"
      ],
      "text/plain": [
       "  Age_Group Case_AcquisitionInfo  cases\n",
       "0       <20                   CC  18398\n",
       "1       <20  MISSING INFORMATION   3779\n",
       "2       <20    NO KNOWN EPI LINK   2928\n",
       "3       <20                   OB   2184\n",
       "4       <20               TRAVEL    193"
      ]
     },
     "execution_count": 18,
     "metadata": {},
     "output_type": "execute_result"
    }
   ],
   "source": [
    "trans_query = '''select Age_Group, Case_AcquisitionInfo, count(*) as cases from covid.ontario \n",
    "where Age_Group is not null and Age_Group <> '' and Age_Group <> 'UNKNOWN'\n",
    "group by Age_Group, Case_AcquisitionInfo order by Age_Group, cases desc;'''\n",
    "\n",
    "trans = run_query(trans_query, db)\n",
    "trans.head()"
   ]
  },
  {
   "cell_type": "code",
   "execution_count": 19,
   "metadata": {},
   "outputs": [
    {
     "data": {
      "text/plain": [
       "<matplotlib.legend.Legend at 0x2704c4519c8>"
      ]
     },
     "execution_count": 19,
     "metadata": {},
     "output_type": "execute_result"
    },
    {
     "data": {
      "image/png": "[encoded data removed]",
      "text/plain": [
       "<Figure size 432x288 with 1 Axes>"
      ]
     },
     "metadata": {
      "needs_background": "light"
     },
     "output_type": "display_data"
    }
   ],
   "source": [
    "sns.barplot(x = 'Age_Group', y = 'cases', hue = 'Case_AcquisitionInfo', data = trans, \\\n",
    "            palette = 'colorblind', edgecolor = 'dimgrey')\n",
    "plt.xticks(rotation = 0)\n",
    "plt.title('COVID-19 Transmission Mechanism by Age Group')\n",
    "plt.xlabel('Age Group')\n",
    "plt.ylabel('Total Cases')\n",
    "plt.legend(loc = 'upper right')"
   ]
  },
  {
   "cell_type": "code",
   "execution_count": 24,
   "metadata": {},
   "outputs": [
    {
     "data": {
      "text/html": [
       "<div>\n",
       "<style scoped>\n",
       "    .dataframe tbody tr th:only-of-type {\n",
       "        vertical-align: middle;\n",
       "    }\n",
       "\n",
       "    .dataframe tbody tr th {\n",
       "        vertical-align: top;\n",
       "    }\n",
       "\n",
       "    .dataframe thead th {\n",
       "        text-align: right;\n",
       "    }\n",
       "</style>\n",
       "<table border=\"1\" class=\"dataframe\">\n",
       "  <thead>\n",
       "    <tr style=\"text-align: right;\">\n",
       "      <th></th>\n",
       "      <th>AGE_GROUP</th>\n",
       "      <th>on_pct_pop</th>\n",
       "    </tr>\n",
       "  </thead>\n",
       "  <tbody>\n",
       "    <tr>\n",
       "      <th>0</th>\n",
       "      <td>&lt;20</td>\n",
       "      <td>19.6192</td>\n",
       "    </tr>\n",
       "    <tr>\n",
       "      <th>1</th>\n",
       "      <td>20s</td>\n",
       "      <td>14.8818</td>\n",
       "    </tr>\n",
       "    <tr>\n",
       "      <th>2</th>\n",
       "      <td>30s</td>\n",
       "      <td>13.8749</td>\n",
       "    </tr>\n",
       "    <tr>\n",
       "      <th>3</th>\n",
       "      <td>40s</td>\n",
       "      <td>13.8948</td>\n",
       "    </tr>\n",
       "    <tr>\n",
       "      <th>4</th>\n",
       "      <td>50s</td>\n",
       "      <td>15.1651</td>\n",
       "    </tr>\n",
       "    <tr>\n",
       "      <th>5</th>\n",
       "      <td>60s</td>\n",
       "      <td>11.2879</td>\n",
       "    </tr>\n",
       "    <tr>\n",
       "      <th>6</th>\n",
       "      <td>70s</td>\n",
       "      <td>6.6418</td>\n",
       "    </tr>\n",
       "    <tr>\n",
       "      <th>7</th>\n",
       "      <td>80s</td>\n",
       "      <td>3.7347</td>\n",
       "    </tr>\n",
       "    <tr>\n",
       "      <th>8</th>\n",
       "      <td>90s</td>\n",
       "      <td>0.8999</td>\n",
       "    </tr>\n",
       "  </tbody>\n",
       "</table>\n",
       "</div>"
      ],
      "text/plain": [
       "  AGE_GROUP on_pct_pop\n",
       "0       <20    19.6192\n",
       "1       20s    14.8818\n",
       "2       30s    13.8749\n",
       "3       40s    13.8948\n",
       "4       50s    15.1651\n",
       "5       60s    11.2879\n",
       "6       70s     6.6418\n",
       "7       80s     3.7347\n",
       "8       90s     0.8999"
      ]
     },
     "execution_count": 24,
     "metadata": {},
     "output_type": "execute_result"
    }
   ],
   "source": [
    "#see population distribution for Ontario in general\n",
    "on_pop_query = '''select AGE_GROUP, sum(TOTAL_SEX) / (select sum(TOTAL_SEX) from covid.demographics where AGE_GROUP is not null) * 100 as on_pct_pop \n",
    "from covid.demographics\n",
    "where AGE_GROUP is not null\n",
    "group by AGE_GROUP order by AGE_GROUP;'''\n",
    "\n",
    "on_pop = run_query(on_pop_query, db)\n",
    "on_pop"
   ]
  },
  {
   "cell_type": "code",
   "execution_count": 78,
   "metadata": {},
   "outputs": [
    {
     "data": {
      "image/png": "[encoded data removed]",
      "text/plain": [
       "<Figure size 432x288 with 1 Axes>"
      ]
     },
     "metadata": {
      "needs_background": "light"
     },
     "output_type": "display_data"
    }
   ],
   "source": [
    "on_pop.on_pct_pop = [float(row) for row in on_pop.on_pct_pop]\n",
    "on_pop.plot(kind = 'bar', x = 'AGE_GROUP', y = 'on_pct_pop', legend = None, color = 'dodgerblue', edgecolor = 'dimgrey')\n",
    "plt.xticks(rotation = 0)\n",
    "plt.title('Ontario Age Distribution')\n",
    "plt.xlabel('Age Group')\n",
    "plt.ylabel('Percent of Population [%]')\n",
    "plt.ylim((0,25))\n",
    "plt.gca().yaxis.set_major_formatter(mtick.PercentFormatter())"
   ]
  },
  {
   "cell_type": "code",
   "execution_count": 5,
   "metadata": {},
   "outputs": [
    {
     "data": {
      "text/html": [
       "<div>\n",
       "<style scoped>\n",
       "    .dataframe tbody tr th:only-of-type {\n",
       "        vertical-align: middle;\n",
       "    }\n",
       "\n",
       "    .dataframe tbody tr th {\n",
       "        vertical-align: top;\n",
       "    }\n",
       "\n",
       "    .dataframe thead th {\n",
       "        text-align: right;\n",
       "    }\n",
       "</style>\n",
       "<table border=\"1\" class=\"dataframe\">\n",
       "  <thead>\n",
       "    <tr style=\"text-align: right;\">\n",
       "      <th></th>\n",
       "      <th>GEO_NAME</th>\n",
       "      <th>AGE_GROUP</th>\n",
       "      <th>group_pop</th>\n",
       "      <th>city_pop</th>\n",
       "      <th>pct_pop</th>\n",
       "    </tr>\n",
       "  </thead>\n",
       "  <tbody>\n",
       "    <tr>\n",
       "      <th>0</th>\n",
       "      <td>Toronto</td>\n",
       "      <td>&lt;20</td>\n",
       "      <td>478360</td>\n",
       "      <td>2665495</td>\n",
       "      <td>17.9464</td>\n",
       "    </tr>\n",
       "    <tr>\n",
       "      <th>1</th>\n",
       "      <td>Toronto</td>\n",
       "      <td>20s</td>\n",
       "      <td>427695</td>\n",
       "      <td>2665495</td>\n",
       "      <td>16.0456</td>\n",
       "    </tr>\n",
       "    <tr>\n",
       "      <th>2</th>\n",
       "      <td>Toronto</td>\n",
       "      <td>30s</td>\n",
       "      <td>420890</td>\n",
       "      <td>2665495</td>\n",
       "      <td>15.7903</td>\n",
       "    </tr>\n",
       "    <tr>\n",
       "      <th>3</th>\n",
       "      <td>Toronto</td>\n",
       "      <td>40s</td>\n",
       "      <td>373315</td>\n",
       "      <td>2665495</td>\n",
       "      <td>14.0055</td>\n",
       "    </tr>\n",
       "    <tr>\n",
       "      <th>4</th>\n",
       "      <td>Toronto</td>\n",
       "      <td>50s</td>\n",
       "      <td>385210</td>\n",
       "      <td>2665495</td>\n",
       "      <td>14.4517</td>\n",
       "    </tr>\n",
       "  </tbody>\n",
       "</table>\n",
       "</div>"
      ],
      "text/plain": [
       "  GEO_NAME AGE_GROUP group_pop city_pop  pct_pop\n",
       "0  Toronto       <20    478360  2665495  17.9464\n",
       "1  Toronto       20s    427695  2665495  16.0456\n",
       "2  Toronto       30s    420890  2665495  15.7903\n",
       "3  Toronto       40s    373315  2665495  14.0055\n",
       "4  Toronto       50s    385210  2665495  14.4517"
      ]
     },
     "execution_count": 5,
     "metadata": {},
     "output_type": "execute_result"
    }
   ],
   "source": [
    "#see population distributions for select major cities\n",
    "pop_query = '''select a.GEO_NAME, a.AGE_GROUP, a.group_pop, t.city_pop, (a.group_pop / t.city_pop * 100) as pct_pop from\n",
    "(select GEO_NAME, AGE_GROUP, sum(TOTAL_SEX) as group_pop from covid.demographics\n",
    "where AGE_GROUP is not null and GEO_NAME in ('Windsor', 'Toronto', 'Guelph', 'Kingston')\n",
    "group by GEO_NAME, AGE_GROUP order by GEO_NAME, AGE_GROUP) as a\n",
    "left join\n",
    "(select GEO_NAME, sum(TOTAL_SEX) as city_pop from covid.demographics\n",
    "where AGE_GROUP is not null and GEO_NAME in ('Windsor', 'Toronto', 'Guelph', 'Kingston')\n",
    "group by GEO_NAME order by city_pop desc) as t\n",
    "on a.GEO_NAME = t.GEO_NAME\n",
    "order by t.city_pop desc, a.GEO_NAME, a.AGE_GROUP;'''\n",
    "\n",
    "pop = run_query(pop_query, db)\n",
    "pop.head()"
   ]
  },
  {
   "cell_type": "code",
   "execution_count": 6,
   "metadata": {},
   "outputs": [
    {
     "data": {
      "image/png": "[encoded data removed]",
      "text/plain": [
       "<Figure size 432x288 with 1 Axes>"
      ]
     },
     "metadata": {
      "needs_background": "light"
     },
     "output_type": "display_data"
    }
   ],
   "source": [
    "sns.barplot(x = 'AGE_GROUP', y = 'pct_pop', hue = 'GEO_NAME', data = pop,\\\n",
    "            palette = sns.color_palette(['mediumblue','orange','lightgray','g']), edgecolor = 'black')\n",
    "plt.title('Age Distribution for Select Ontario Cities')\n",
    "plt.xlabel('Age Group')\n",
    "plt.ylabel('Percentage of Population [%]')\n",
    "plt.legend(loc = 'upper right')\n",
    "plt.ylim((0,25))\n",
    "plt.gca().yaxis.set_major_formatter(mtick.PercentFormatter())"
   ]
  },
  {
   "cell_type": "code",
   "execution_count": 9,
   "metadata": {},
   "outputs": [
    {
     "data": {
      "text/html": [
       "<div>\n",
       "<style scoped>\n",
       "    .dataframe tbody tr th:only-of-type {\n",
       "        vertical-align: middle;\n",
       "    }\n",
       "\n",
       "    .dataframe tbody tr th {\n",
       "        vertical-align: top;\n",
       "    }\n",
       "\n",
       "    .dataframe thead th {\n",
       "        text-align: right;\n",
       "    }\n",
       "</style>\n",
       "<table border=\"1\" class=\"dataframe\">\n",
       "  <thead>\n",
       "    <tr style=\"text-align: right;\">\n",
       "      <th></th>\n",
       "      <th>ym</th>\n",
       "      <th>Reporting_PHU_City</th>\n",
       "      <th>cases</th>\n",
       "    </tr>\n",
       "  </thead>\n",
       "  <tbody>\n",
       "    <tr>\n",
       "      <th>0</th>\n",
       "      <td>2020-01</td>\n",
       "      <td>Toronto</td>\n",
       "      <td>2</td>\n",
       "    </tr>\n",
       "    <tr>\n",
       "      <th>1</th>\n",
       "      <td>2020-02</td>\n",
       "      <td>Toronto</td>\n",
       "      <td>6</td>\n",
       "    </tr>\n",
       "    <tr>\n",
       "      <th>2</th>\n",
       "      <td>2020-03</td>\n",
       "      <td>Toronto</td>\n",
       "      <td>834</td>\n",
       "    </tr>\n",
       "    <tr>\n",
       "      <th>3</th>\n",
       "      <td>2020-03</td>\n",
       "      <td>Kingston</td>\n",
       "      <td>46</td>\n",
       "    </tr>\n",
       "    <tr>\n",
       "      <th>4</th>\n",
       "      <td>2020-03</td>\n",
       "      <td>Windsor</td>\n",
       "      <td>92</td>\n",
       "    </tr>\n",
       "  </tbody>\n",
       "</table>\n",
       "</div>"
      ],
      "text/plain": [
       "        ym Reporting_PHU_City  cases\n",
       "0  2020-01            Toronto      2\n",
       "1  2020-02            Toronto      6\n",
       "2  2020-03            Toronto    834\n",
       "3  2020-03           Kingston     46\n",
       "4  2020-03            Windsor     92"
      ]
     },
     "execution_count": 9,
     "metadata": {},
     "output_type": "execute_result"
    }
   ],
   "source": [
    "ts_query = '''select date_format(Case_Reported_Date, \"%Y-%m\") ym, Reporting_PHU_City, count(*) as cases \n",
    "from covid.ontario \n",
    "where Reporting_PHU_City in ('Windsor', 'Toronto', 'Guelph', 'Kingston') and year(Case_Reported_Date) = '2020'\n",
    "group by Reporting_PHU_City, ym order by ym;'''\n",
    "\n",
    "ts = run_query(ts_query, db)\n",
    "ts.head()"
   ]
  },
  {
   "cell_type": "code",
   "execution_count": 11,
   "metadata": {},
   "outputs": [
    {
     "data": {
      "text/plain": [
       "Text(0, 0.5, 'Reported Cases')"
      ]
     },
     "execution_count": 11,
     "metadata": {},
     "output_type": "execute_result"
    },
    {
     "data": {
      "image/png": "[encoded data removed]",
      "text/plain": [
       "<Figure size 432x288 with 1 Axes>"
      ]
     },
     "metadata": {
      "needs_background": "light"
     },
     "output_type": "display_data"
    }
   ],
   "source": [
    "sns.lineplot(x = 'ym', y = 'cases', hue = 'Reporting_PHU_City', data = ts,\\\n",
    "             palette = sns.color_palette(['mediumblue','g','orange', 'lightgray']))\n",
    "plt.xticks(rotation = 45)\n",
    "plt.title('Monthly Reported COVID-19 Cases in 2020')\n",
    "plt.xlabel('Date')\n",
    "plt.ylabel('Reported Cases')"
   ]
  },
  {
   "cell_type": "code",
   "execution_count": 24,
   "metadata": {},
   "outputs": [
    {
     "data": {
      "text/html": [
       "<div>\n",
       "<style scoped>\n",
       "    .dataframe tbody tr th:only-of-type {\n",
       "        vertical-align: middle;\n",
       "    }\n",
       "\n",
       "    .dataframe tbody tr th {\n",
       "        vertical-align: top;\n",
       "    }\n",
       "\n",
       "    .dataframe thead th {\n",
       "        text-align: right;\n",
       "    }\n",
       "</style>\n",
       "<table border=\"1\" class=\"dataframe\">\n",
       "  <thead>\n",
       "    <tr style=\"text-align: right;\">\n",
       "      <th></th>\n",
       "      <th>crd</th>\n",
       "      <th>aed</th>\n",
       "      <th>avg_diff</th>\n",
       "    </tr>\n",
       "  </thead>\n",
       "  <tbody>\n",
       "    <tr>\n",
       "      <th>0</th>\n",
       "      <td>2020-01</td>\n",
       "      <td>2020-01</td>\n",
       "      <td>0.7500</td>\n",
       "    </tr>\n",
       "    <tr>\n",
       "      <th>1</th>\n",
       "      <td>2020-02</td>\n",
       "      <td>2020-02</td>\n",
       "      <td>5.0714</td>\n",
       "    </tr>\n",
       "    <tr>\n",
       "      <th>2</th>\n",
       "      <td>2020-03</td>\n",
       "      <td>2020-03</td>\n",
       "      <td>7.2077</td>\n",
       "    </tr>\n",
       "    <tr>\n",
       "      <th>3</th>\n",
       "      <td>2020-04</td>\n",
       "      <td>2020-04</td>\n",
       "      <td>5.5245</td>\n",
       "    </tr>\n",
       "    <tr>\n",
       "      <th>4</th>\n",
       "      <td>2020-05</td>\n",
       "      <td>2020-04</td>\n",
       "      <td>6.6994</td>\n",
       "    </tr>\n",
       "  </tbody>\n",
       "</table>\n",
       "</div>"
      ],
      "text/plain": [
       "       crd      aed avg_diff\n",
       "0  2020-01  2020-01   0.7500\n",
       "1  2020-02  2020-02   5.0714\n",
       "2  2020-03  2020-03   7.2077\n",
       "3  2020-04  2020-04   5.5245\n",
       "4  2020-05  2020-04   6.6994"
      ]
     },
     "execution_count": 24,
     "metadata": {},
     "output_type": "execute_result"
    }
   ],
   "source": [
    "rep_gap_query = '''select date_format(Case_Reported_Date, \"%Y-%m\") as crd, date_format(Accurate_Episode_Date, \"%Y-%m\") as aed,\n",
    "avg(datediff(Case_Reported_Date, Accurate_Episode_Date)) as avg_diff\n",
    "from covid.ontario\n",
    "group by crd\n",
    "order by crd;'''\n",
    "\n",
    "rep_gap = run_query(rep_gap_query, db)\n",
    "rep_gap.head()"
   ]
  },
  {
   "cell_type": "code",
   "execution_count": 32,
   "metadata": {},
   "outputs": [
    {
     "data": {
      "text/plain": [
       "Text(0, 0.5, 'Average Days to Report Case')"
      ]
     },
     "execution_count": 32,
     "metadata": {},
     "output_type": "execute_result"
    },
    {
     "data": {
      "image/png": "[encoded data removed]",
      "text/plain": [
       "<Figure size 432x288 with 1 Axes>"
      ]
     },
     "metadata": {
      "needs_background": "light"
     },
     "output_type": "display_data"
    }
   ],
   "source": [
    "rep_gap.avg_diff = [float(row) for row in rep_gap.avg_diff]\n",
    "\n",
    "rep_gap.plot(x = 'crd', y = 'avg_diff', legend = None)\n",
    "plt.xticks(rotation = 45)\n",
    "plt.title('Average Number of Days to Report Case (from Onset Date)')\n",
    "plt.xlabel('Date')\n",
    "plt.ylabel('Average Days to Report Case')"
   ]
  },
  {
   "cell_type": "code",
   "execution_count": 35,
   "metadata": {},
   "outputs": [
    {
     "data": {
      "text/html": [
       "<div>\n",
       "<style scoped>\n",
       "    .dataframe tbody tr th:only-of-type {\n",
       "        vertical-align: middle;\n",
       "    }\n",
       "\n",
       "    .dataframe tbody tr th {\n",
       "        vertical-align: top;\n",
       "    }\n",
       "\n",
       "    .dataframe thead th {\n",
       "        text-align: right;\n",
       "    }\n",
       "</style>\n",
       "<table border=\"1\" class=\"dataframe\">\n",
       "  <thead>\n",
       "    <tr style=\"text-align: right;\">\n",
       "      <th></th>\n",
       "      <th>Reporting_PHU_City</th>\n",
       "      <th>crd</th>\n",
       "      <th>aed</th>\n",
       "      <th>avg_diff</th>\n",
       "    </tr>\n",
       "  </thead>\n",
       "  <tbody>\n",
       "    <tr>\n",
       "      <th>0</th>\n",
       "      <td>Toronto</td>\n",
       "      <td>2020-01</td>\n",
       "      <td>2020-01</td>\n",
       "      <td>1.5000</td>\n",
       "    </tr>\n",
       "    <tr>\n",
       "      <th>1</th>\n",
       "      <td>Toronto</td>\n",
       "      <td>2020-02</td>\n",
       "      <td>2020-02</td>\n",
       "      <td>7.0000</td>\n",
       "    </tr>\n",
       "    <tr>\n",
       "      <th>2</th>\n",
       "      <td>Toronto</td>\n",
       "      <td>2020-03</td>\n",
       "      <td>2020-03</td>\n",
       "      <td>6.4952</td>\n",
       "    </tr>\n",
       "    <tr>\n",
       "      <th>3</th>\n",
       "      <td>Windsor</td>\n",
       "      <td>2020-03</td>\n",
       "      <td>2020-03</td>\n",
       "      <td>6.9239</td>\n",
       "    </tr>\n",
       "    <tr>\n",
       "      <th>4</th>\n",
       "      <td>Guelph</td>\n",
       "      <td>2020-03</td>\n",
       "      <td>2020-03</td>\n",
       "      <td>7.6458</td>\n",
       "    </tr>\n",
       "  </tbody>\n",
       "</table>\n",
       "</div>"
      ],
      "text/plain": [
       "  Reporting_PHU_City      crd      aed avg_diff\n",
       "0            Toronto  2020-01  2020-01   1.5000\n",
       "1            Toronto  2020-02  2020-02   7.0000\n",
       "2            Toronto  2020-03  2020-03   6.4952\n",
       "3            Windsor  2020-03  2020-03   6.9239\n",
       "4             Guelph  2020-03  2020-03   7.6458"
      ]
     },
     "execution_count": 35,
     "metadata": {},
     "output_type": "execute_result"
    }
   ],
   "source": [
    "rep_gap_city_query = '''select Reporting_PHU_City, date_format(Case_Reported_Date, \"%Y-%m\") as crd, date_format(Accurate_Episode_Date, \"%Y-%m\") as aed,\n",
    "avg(datediff(Case_Reported_Date, Accurate_Episode_Date)) as avg_diff\n",
    "from covid.ontario\n",
    "where Reporting_PHU_City in ('Toronto', 'Windsor', 'Guelph', 'Kingston')\n",
    "group by Reporting_PHU_City, crd\n",
    "order by crd;'''\n",
    "\n",
    "rep_gap_city = run_query(rep_gap_city_query, db)\n",
    "rep_gap_city.head()"
   ]
  },
  {
   "cell_type": "code",
   "execution_count": 36,
   "metadata": {},
   "outputs": [
    {
     "data": {
      "text/plain": [
       "Text(0, 0.5, 'Average Days to Report Case')"
      ]
     },
     "execution_count": 36,
     "metadata": {},
     "output_type": "execute_result"
    },
    {
     "data": {
      "image/png": "[encoded data removed]",
      "text/plain": [
       "<Figure size 432x288 with 1 Axes>"
      ]
     },
     "metadata": {
      "needs_background": "light"
     },
     "output_type": "display_data"
    }
   ],
   "source": [
    "sns.lineplot(x = 'crd', y = 'avg_diff', hue = 'Reporting_PHU_City', data = rep_gap_city)\n",
    "plt.xticks(rotation = 45)\n",
    "plt.title('Average Number of Days to Report Case (from Onset Date)')\n",
    "plt.xlabel('Date')\n",
    "plt.ylabel('Average Days to Report Case')"
   ]
  },
  {
   "cell_type": "code",
   "execution_count": 45,
   "metadata": {},
   "outputs": [
    {
     "data": {
      "text/html": [
       "<div>\n",
       "<style scoped>\n",
       "    .dataframe tbody tr th:only-of-type {\n",
       "        vertical-align: middle;\n",
       "    }\n",
       "\n",
       "    .dataframe tbody tr th {\n",
       "        vertical-align: top;\n",
       "    }\n",
       "\n",
       "    .dataframe thead th {\n",
       "        text-align: right;\n",
       "    }\n",
       "</style>\n",
       "<table border=\"1\" class=\"dataframe\">\n",
       "  <thead>\n",
       "    <tr style=\"text-align: right;\">\n",
       "      <th></th>\n",
       "      <th>Age_Group</th>\n",
       "      <th>crd</th>\n",
       "      <th>aed</th>\n",
       "      <th>avg_diff</th>\n",
       "    </tr>\n",
       "  </thead>\n",
       "  <tbody>\n",
       "    <tr>\n",
       "      <th>0</th>\n",
       "      <td>20s</td>\n",
       "      <td>2020-01</td>\n",
       "      <td>2020-01</td>\n",
       "      <td>0.0000</td>\n",
       "    </tr>\n",
       "    <tr>\n",
       "      <th>1</th>\n",
       "      <td>20s</td>\n",
       "      <td>2020-02</td>\n",
       "      <td>2020-02</td>\n",
       "      <td>16.0000</td>\n",
       "    </tr>\n",
       "    <tr>\n",
       "      <th>2</th>\n",
       "      <td>70s</td>\n",
       "      <td>2020-02</td>\n",
       "      <td>2020-02</td>\n",
       "      <td>7.0000</td>\n",
       "    </tr>\n",
       "    <tr>\n",
       "      <th>3</th>\n",
       "      <td>80s</td>\n",
       "      <td>2020-02</td>\n",
       "      <td>2020-02</td>\n",
       "      <td>8.0000</td>\n",
       "    </tr>\n",
       "    <tr>\n",
       "      <th>4</th>\n",
       "      <td>20s</td>\n",
       "      <td>2020-03</td>\n",
       "      <td>2020-03</td>\n",
       "      <td>7.0048</td>\n",
       "    </tr>\n",
       "  </tbody>\n",
       "</table>\n",
       "</div>"
      ],
      "text/plain": [
       "  Age_Group      crd      aed avg_diff\n",
       "0       20s  2020-01  2020-01   0.0000\n",
       "1       20s  2020-02  2020-02  16.0000\n",
       "2       70s  2020-02  2020-02   7.0000\n",
       "3       80s  2020-02  2020-02   8.0000\n",
       "4       20s  2020-03  2020-03   7.0048"
      ]
     },
     "execution_count": 45,
     "metadata": {},
     "output_type": "execute_result"
    }
   ],
   "source": [
    "rep_gap_age_query = '''select Age_Group, date_format(Case_Reported_Date, \"%Y-%m\") as crd, date_format(Accurate_Episode_Date, \"%Y-%m\") as aed,\n",
    "avg(datediff(Case_Reported_Date, Accurate_Episode_Date)) as avg_diff\n",
    "from covid.ontario\n",
    "where Age_Group in ('20s','70s','80s','90s')\n",
    "group by Age_Group, crd\n",
    "order by crd;'''\n",
    "\n",
    "rep_gap_age = run_query(rep_gap_age_query, db)\n",
    "rep_gap_age.head()"
   ]
  },
  {
   "cell_type": "code",
   "execution_count": 46,
   "metadata": {},
   "outputs": [
    {
     "data": {
      "text/plain": [
       "<matplotlib.legend.Legend at 0x25a88a67188>"
      ]
     },
     "execution_count": 46,
     "metadata": {},
     "output_type": "execute_result"
    },
    {
     "data": {
      "image/png": "[encoded data removed]",
      "text/plain": [
       "<Figure size 432x288 with 1 Axes>"
      ]
     },
     "metadata": {
      "needs_background": "light"
     },
     "output_type": "display_data"
    }
   ],
   "source": [
    "sns.lineplot(x = 'crd', y = 'avg_diff', hue = 'Age_Group', data = rep_gap_age)\n",
    "plt.xticks(rotation = 45)\n",
    "plt.title('Average Number of Days to Report Case (from Onset Date)')\n",
    "plt.xlabel('Date')\n",
    "plt.ylabel('Average Days to Report Case')\n",
    "plt.legend(loc = 'upper right')"
   ]
  },
  {
   "cell_type": "code",
   "execution_count": null,
   "metadata": {},
   "outputs": [],
   "source": []
  }
 ],
 "metadata": {
  "kernelspec": {
   "display_name": "Python 3",
   "language": "python",
   "name": "python3"
  },
  "language_info": {
   "codemirror_mode": {
    "name": "ipython",
    "version": 3
   },
   "file_extension": ".py",
   "mimetype": "text/x-python",
   "name": "python",
   "nbconvert_exporter": "python",
   "pygments_lexer": "ipython3",
   "version": "3.7.9"
  }
 },
 "nbformat": 4,
 "nbformat_minor": 4
}
